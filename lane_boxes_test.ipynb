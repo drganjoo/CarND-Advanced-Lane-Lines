{
 "cells": [
  {
   "cell_type": "markdown",
   "metadata": {},
   "source": [
    "## Test for sliding windows on an image"
   ]
  },
  {
   "cell_type": "code",
   "execution_count": null,
   "metadata": {
    "collapsed": true
   },
   "outputs": [],
   "source": [
    "output_img = np.dstack((binary_warped * 255, binary_warped * 255, binary_warped * 255))\n",
    "\n",
    "window_width = 50\n",
    "margin = 100\n",
    "window_height = 80\n",
    "window = np.ones(window_width)\n",
    "\n",
    "l_center, r_center = lane_algo.find_bottom_left_right()\n",
    "l_center = r_center\n",
    "start_x = 640\n",
    "\n",
    "boxes_y = np.arange(0, binary_warped.shape[0], lane_algo.window_height)[::-1]\n",
    "centers = np.zeros_like(boxes_y)\n",
    "conv_max = np.zeros_like(boxes_y)\n",
    "\n",
    "# set first center to the last one as the loop uses last center\n",
    "centers[-1] = l_center\n",
    "\n",
    "for i in range(0, len(boxes_y)):\n",
    "    y = boxes_y[i]\n",
    "\n",
    "    margin_lx = max(centers[i - 1] - window_width // 2 - margin // 2, 0)\n",
    "    margin_rx = min(centers[i - 1] + window_width // 2 + margin // 2, binary_warped.shape[1])\n",
    "    \n",
    "    lt = margin_lx, y\n",
    "    rb = margin_rx, y + window_height\n",
    "    \n",
    "    cv2.rectangle(output_img, lt, rb, (0, 255, 0), 10)\n",
    "\n",
    "    image_area = binary_warped[y: y + window_height, margin_lx : margin_rx]\n",
    "    \n",
    "    sum_cols = np.sum(image_area, axis=0)\n",
    "    conv = np.convolve(window, sum_cols, 'same')\n",
    "    \n",
    "    f, (ax1, ax2) = plt.subplots(1,2, figsize=(20,5))\n",
    "    ax1.plot(conv)\n",
    "    ax1.set_title('Conv Sum')\n",
    "    ax2.imshow(output_img)\n",
    "    plt.show()\n",
    "    \n",
    "    conv_max[i] = np.argmax(conv)\n",
    "\n",
    "    if conv_max[i] == 0:\n",
    "        centers[i] = centers[i - 1]\n",
    "    else:\n",
    "        centers[i] = conv_max[i] + margin_lx\n",
    "        #print('Conv Max', conv_max[i], 'center', centers[i])\n",
    "\n",
    "        # how many pixels were there in this box compared to the previous one\n",
    "        # if not many then don't believe so much on this box\n",
    "\n",
    "        if i > 0:\n",
    "            div = (conv_max[i - 1]) + 1e-4\n",
    "            filled_area_ratio = abs(conv_max[i] / div)\n",
    "\n",
    "            if filled_area_ratio < 0.3:\n",
    "                center_diff = (centers[i] - centers[i-1]) / window_width\n",
    "                #print('This', centers[i], 'Prev', centers[i-1], 'Diff:', center_diff, 'Filled:', filled_area_ratio)\n",
    "\n",
    "                if center_diff > 0.2:\n",
    "                    centers[i] = np.int(centers[i-1] * -0.8)\n",
    "                elif center_diff < -0.2:\n",
    "                    centers[i] = np.int(centers[i-1] * 0.8)\n",
    "\n",
    "                #print('This', centers[i], 'Prev', centers[i-1], 'Diff:', center_diff, 'Filled:', filled_area_ratio)\n",
    "\n",
    "                # carry forward 80% weight of the previous conv_max as we go up we don't want\n",
    "                # one or two pixels in this window to allow another small ratio of pixels to be impacted\n",
    "                conv_max[i] = conv_max[i-1] * 0.8\n",
    "        \n",
    "    lt = centers[i] - window_width // 2, y\n",
    "    rb = centers[i] + window_width // 2, y + window_height\n",
    "\n",
    "    cv2.rectangle(output_img, lt, rb, (255, 0, 0), 10)\n",
    "    \n",
    "plt.imshow(output_img)\n",
    "plt.show()"
   ]
  }
 ],
 "metadata": {
  "kernelspec": {
   "display_name": "Python 3",
   "language": "python",
   "name": "python3"
  },
  "language_info": {
   "codemirror_mode": {
    "name": "ipython",
    "version": 3
   },
   "file_extension": ".py",
   "mimetype": "text/x-python",
   "name": "python",
   "nbconvert_exporter": "python",
   "pygments_lexer": "ipython3",
   "version": "3.5.2"
  },
  "widgets": {
   "state": {},
   "version": "1.1.2"
  }
 },
 "nbformat": 4,
 "nbformat_minor": 2
}
